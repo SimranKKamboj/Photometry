
{
 "cells": [
  {
   "cell_type": "markdown",
   "id": "a0753eac",
   "metadata": {},
   "source": [
    "#  The final reference star(s) can be decided once the delta mag files are obtained and if the mag of the star is constant over time and a small variation over one thousands of magnitude, then that star is probably not a variable star and you can use that for your relative photometry."
   ]
  },
{
   "cell_type": "markdown",
   "id": "4f74fd4f",
   "metadata": {},
   "source": [
    "# Converting txt to csv (multiple files)"
   ]
  },
  {
   "cell_type": "code",
   "execution_count": null,
   "id": "59e05b5f",
   "metadata": {},
   "outputs": [],
   "source": [
    "import pandas as pd\n",
    "\n",
    "for i in range(20, 30):\n",
    "    if i != 25 and i != 27 and i != 28:\n",
    "        input_file = f'tno_{i}.txt'\n",
    "        output_file = f'tno_{i}.csv'\n",
    "\n",
    "        df = pd.read_csv(input_file, sep='\\s+', header=None)\n",
    "        df.to_csv(output_file, index=False, header=False)\n",
    "        print(f\"Converted {input_file} to {output_file}\")\n"
   ]
  },
  {
   "cell_type": "markdown",
   "id": "4f74fd4f",
   "metadata": {},
   "source": [
    "# Converting txt to csv (single file)"
   ]
  },
  {
   "cell_type": "code",
   "execution_count": 24,
   "id": "abf51e34",
   "metadata": {},
   "outputs": [],
   "source": [
    "import pandas as pd\n",
    "\n",
    "df = pd.read_csv('star2_b_29.txt', sep='\\s+', header=None)\n",
    "df.to_csv('star2_b_29.csv', index=False, header=False)"
   ]
  },
  {
   "cell_type": "markdown",
   "id": "ec1f9dd6",
   "metadata": {},
   "source": [
    "# Combine files"
   ]
  },
  {
   "cell_type": "code",
   "execution_count": 2,
   "id": "cdd73596",
   "metadata": {},
   "outputs": [
    {
     "name": "stdout",
     "output_type": "stream",
     "text": [
      "files combined\n"
     ]
    }
   ],
   "source": [
    "import pandas as pd\n",
    "\n",
    "# Create an empty DataFrame to store the combined data\n",
    "combined_df = pd.DataFrame()\n",
    "\n",
    "# Loop through the files\n",
    "for i in range(20, 30):\n",
    "    if i != 25 and i != 27 and i != 28:\n",
    "        input_file = f'tno_{i}.csv'\n",
    "        df = pd.read_csv(input_file, header=None)\n",
    "        combined_df = pd.concat([combined_df, df], ignore_index=True)\n",
    "\n",
    "# Save the combined DataFrame to a new CSV file\n",
    "combined_df.to_csv('TNO.csv', index=False, header=False)\n",
    "print(\"Files combined\")\n"
   ]
  },
  {
   "cell_type": "markdown",
   "id": "c78d887e",
   "metadata": {},
   "source": [
    "# Adding header (change it based on your pdump configuration)"
   ]
  },
  {
   "cell_type": "code",
   "execution_count": 25,
   "id": "1e0234f9",
   "metadata": {},
   "outputs": [
    {
     "name": "stdout",
     "output_type": "stream",
     "text": [
      "Header added\n"
     ]
    }
   ],
   "source": [
    "import pandas as pd\n",
    "\n",
    "# Load the combined CSV file\n",
    "df = pd.read_csv('star2_b_29.csv', header=None)\n",
    "\n",
    "# Insert the 'FRAME' column at the beginning with default values (e.g., NaN or 0)\n",
    "df.insert(0, 'FRAME', range(1, len(df) + 1))\n",
    "\n",
    "# Define the header\n",
    "header = \"FRAME,MJDATE,APER5,APER6,APER7,APER21,APER25,APER30,APER35,MAG5,MAG6,MAG7,MAG21,MAG25,MAG30,MAG35,MERR5,MERR6,MERR7,MERR21,MERR25,MERR30,MERR35,XAIRMASS,FLUX5,FLUX6,FLUX7,FLUX21,FLUX25,FLUX30,FLUX35,SUM5,SUM6,SUM7,SUM21,SUM25,SUM30,SUM35,AREA5,AREA6,AREA7,AREA21,AREA25,AREA30,AREA35,MSKY\"\n",
    "header_list = header.split(',')\n",
    "df.columns = header_list\n",
    "\n",
    "# Save the combined DataFrame to a new CSV file\n",
    "df.to_csv('star2_b_29.csv', index=False)\n",
    "print(\"Header added\")\n"
   ]
  },
  {
   "cell_type": "markdown",
   "id": "daad9fba",
   "metadata": {},
   "source": [
    "# Adding OTIME"
   ]
  },
  {
   "cell_type": "code",
   "execution_count": 23,
   "id": "61503c64",
   "metadata": {},
   "outputs": [
    {
     "name": "stdout",
     "output_type": "stream",
     "text": [
      "   FRAME       MJDATE  APER5  APER6  APER7  APER21  APER25  APER30  APER35  \\\n",
      "0      1  59811.38429      5      6      7      21      25      30      35   \n",
      "1      2  59811.38826      5      6      7      21      25      30      35   \n",
      "2      3  59811.39248      5      6      7      21      25      30      35   \n",
      "3      4  59811.39644      5      6      7      21      25      30      35   \n",
      "4      5  59811.40118      5      6      7      21      25      30      35   \n",
      "\n",
      "     MAG5  ...     AREA6     AREA7    AREA21    AREA25    AREA30    AREA35  \\\n",
      "0  23.668  ...  113.2382  154.5491  1385.751  1962.568  2826.802  3848.325   \n",
      "1  23.570  ...  113.3023  154.2463  1385.764  1964.010  2827.880  3848.727   \n",
      "2  23.664  ...  113.3046  154.2983  1385.717  1963.407  2827.437  3848.607   \n",
      "3  23.667  ...  113.0702  154.4384  1386.036  1963.301  2827.069  3848.114   \n",
      "4  23.475  ...  113.4801  154.0967  1385.525  1963.987  2827.982  3848.978   \n",
      "\n",
      "       MSKY  MAGUNCERT7  MAGUNCERT5    OTIME  \n",
      "0  1046.090    0.078131    0.071386  0.00000  \n",
      "1  1041.172    0.078192    0.064947  0.09528  \n",
      "2  1048.009    0.081342    0.071026  0.19656  \n",
      "3  1047.096    0.091212    0.071250  0.29160  \n",
      "4  1039.966    0.081528    0.059458  0.40536  \n",
      "\n",
      "[5 rows x 49 columns]\n"
     ]
    }
   ],
   "source": [
    "import pandas as pd\n",
    "\n",
    "# Load the combined CSV file\n",
    "df = pd.read_csv('tno.csv')\n",
    "\n",
    "# Calculate the OTIME column\n",
    "df['OTIME'] = (df['MJDATE'] - df['MJDATE'].iloc[0]) * 24\n",
    "\n",
    "# Save the updated DataFrame to the CSV file\n",
    "df.to_csv('tno.csv', index=False)\n",
    "\n",
    "# Display the first few rows to verify the new column\n",
    "print(df.head())\n"
   ]
  },
  {
   "cell_type": "code",
   "execution_count": null,
   "id": "03656843",
   "metadata": {},
   "outputs": [],
   "source": []
  }
 ],
 "metadata": {
  "kernelspec": {
   "display_name": "Python 3 (ipykernel)",
   "language": "python",
   "name": "python3"
  },
  "language_info": {
   "codemirror_mode": {
    "name": "ipython",
    "version": 3
   },
   "file_extension": ".py",
   "mimetype": "text/x-python",
   "name": "python",
   "nbconvert_exporter": "python",
   "pygments_lexer": "ipython3",
   "version": "3.11.5"
  }
 },
 "nbformat": 4,
 "nbformat_minor": 5
}
