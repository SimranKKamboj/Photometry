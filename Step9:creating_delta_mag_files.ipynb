{
 "cells": [
  {
   "cell_type": "code",
   "execution_count": 2,
   "id": "d6883cce",
   "metadata": {},
   "outputs": [],
   "source": [
    "import pandas as pd\n",
    "import numpy as np\n",
    "\n",
    "data_1 = pd.read_csv('star2.csv')\n",
    "data_3 = pd.read_csv('tno.csv')\n",
    "\n",
    "mag_tno7 = data_3['MAG7']\n",
    "merr_tno7 = data_3['MAGUNCERT7']\n",
    "time = data_3['OTIME']\n",
    "\n",
    "mag_star7 = data_1['MAG7']\n",
    "merr_star7 = data_1['MAGUNCERT7']\n",
    "\n",
    "delta_mag7 = mag_tno7 - mag_star7\n",
    "merr7 = np.sqrt(merr_tno7**2 + merr_star7**2)\n",
    "\n",
    "mag_tno5 = data_3['MAG5']\n",
    "merr_tno5 = data_3['MAGUNCERT5']\n",
    "time = data_3['OTIME']\n",
    "\n",
    "mag_star5 = data_1['MAG5']\n",
    "merr_star5 = data_1['MAGUNCERT5']\n",
    "\n",
    "delta_mag5 = mag_tno5 - mag_star5\n",
    "merr5 = np.sqrt(merr_tno5**2 + merr_star5**2)\n",
    "\n",
    "# Create a new DataFrame with delta_mag and merr columns\n",
    "tno_data = pd.DataFrame({'OTIME':time ,'DELTAMAG7': delta_mag7, 'DELTAERR7': merr7,'DELTAMAG5': delta_mag5, 'DELTAERR5': merr5})\n",
    "\n",
    "# Save the DataFrame to a CSV file\n",
    "tno_data.to_csv('tno_final.csv', index=False)\n"
   ]
  },
  {
   "cell_type": "code",
   "execution_count": null,
   "id": "50e86339",
   "metadata": {},
   "outputs": [],
   "source": []
  }
 ],
 "metadata": {
  "kernelspec": {
   "display_name": "Python 3 (ipykernel)",
   "language": "python",
   "name": "python3"
  },
  "language_info": {
   "codemirror_mode": {
    "name": "ipython",
    "version": 3
   },
   "file_extension": ".py",
   "mimetype": "text/x-python",
   "name": "python",
   "nbconvert_exporter": "python",
   "pygments_lexer": "ipython3",
   "version": "3.11.5"
  }
 },
 "nbformat": 4,
 "nbformat_minor": 5
}
