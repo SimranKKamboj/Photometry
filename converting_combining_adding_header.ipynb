{
 "cells": [
  {
   "cell_type": "markdown",
   "id": "a0753eac",
   "metadata": {},
   "source": [
    "# Converting txt to csv (multiple files)"
   ]
  },
  {
   "cell_type": "code",
   "execution_count": null,
   "id": "59e05b5f",
   "metadata": {},
   "outputs": [],
   "source": [
    "import pandas as pd\n",
    "\n",
    "for i in range(20, 30):\n",
    "    if i != 25 and i != 27 and i != 28:\n",
    "        input_file = f'tno_{i}.txt'\n",
    "        output_file = f'tno_{i}.csv'\n",
    "\n",
    "        df = pd.read_csv(input_file, sep='\\s+', header=None)\n",
    "        df.to_csv(output_file, index=False, header=False)\n",
    "        print(f\"Converted {input_file} to {output_file}\")\n"
   ]
  },
  {
   "cell_type": "markdown",
   "id": "4f74fd4f",
   "metadata": {},
   "source": [
    "# Converting txt to csv (single file)"
   ]
  },
  {
   "cell_type": "code",
   "execution_count": null,
   "id": "abf51e34",
   "metadata": {},
   "outputs": [],
   "source": [
    "import pandas as pd\n",
    "\n",
    "df = pd.read_csv('star10_26.txt', sep='\\s+', header=None)\n",
    "df.to_csv('star10_26.csv', index=False, header=False)"
   ]
  },
  {
   "cell_type": "markdown",
   "id": "ec1f9dd6",
   "metadata": {},
   "source": [
    "# Combine files"
   ]
  },
  {
   "cell_type": "code",
   "execution_count": 2,
   "id": "cdd73596",
   "metadata": {},
   "outputs": [
    {
     "name": "stdout",
     "output_type": "stream",
     "text": [
      "files combined\n"
     ]
    }
   ],
   "source": [
    "import pandas as pd\n",
    "\n",
    "# Create an empty DataFrame to store the combined data\n",
    "combined_df = pd.DataFrame()\n",
    "\n",
    "# Loop through the files\n",
    "for i in range(20, 30):\n",
    "    if i != 25 and i != 27 and i != 28:\n",
    "        input_file = f'tno_{i}.csv'\n",
    "        df = pd.read_csv(input_file, header=None)\n",
    "        combined_df = pd.concat([combined_df, df], ignore_index=True)\n",
    "\n",
    "# Save the combined DataFrame to a new CSV file\n",
    "combined_df.to_csv('TNO.csv', index=False, header=False)\n",
    "print(\"Files combined\")\n"
   ]
  },
  {
   "cell_type": "markdown",
   "id": "c78d887e",
   "metadata": {},
   "source": [
    "# Adding header (change it based on your pdump configuration)"
   ]
  },
  {
   "cell_type": "code",
   "execution_count": 11,
   "id": "1e0234f9",
   "metadata": {},
   "outputs": [
    {
     "name": "stdout",
     "output_type": "stream",
     "text": [
      "(302, 46)\n",
      "288\n"
     ]
    }
   ],
   "source": [
    "import pandas as pd\n",
    "\n",
    "# Load the combined CSV file\n",
    "df = pd.read_csv('tno.csv', header=None)\n",
    "\n",
    "# Add the header\n",
    "header = \"FRAME,MJDATE,APER5,APER6,APER7,APER21,APER25,APER30,APER35,MAG5,MAG6,MAG7,MAG21,MAG25,MAG30,MAG35,MERR5,MERR6,MERR7,MERR21,MERR25,MERR30,MERR35,XAIRMASS,FLUX5,FLUX6,FLUX7,FLUX21,FLUX25,FLUX30,FLUX35,SUM5,SUM6,SUM7,SUM21,SUM25,SUM30,SUM35,AREA5,AREA6,AREA7,AREA21,AREA25,AREA30,AREA35,MSKY\"\n",
    "header_list = header.split(',')\n",
    "df.columns = header_list\n",
    "\n",
    "# Save the combined DataFrame to a new CSV file\n",
    "df.to_csv('tno.csv', index=False)\n",
    "print(\"Header added\")\n"
   ]
  },
  {
   "cell_type": "code",
   "execution_count": null,
   "id": "644a075e",
   "metadata": {},
   "outputs": [],
   "source": []
  }
 ],
 "metadata": {
  "kernelspec": {
   "display_name": "Python 3 (ipykernel)",
   "language": "python",
   "name": "python3"
  },
  "language_info": {
   "codemirror_mode": {
    "name": "ipython",
    "version": 3
   },
   "file_extension": ".py",
   "mimetype": "text/x-python",
   "name": "python",
   "nbconvert_exporter": "python",
   "pygments_lexer": "ipython3",
   "version": "3.11.5"
  }
 },
 "nbformat": 4,
 "nbformat_minor": 5
}
