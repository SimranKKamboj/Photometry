{
 "cells": [
  {
   "cell_type": "code",
   "execution_count": 1,
   "id": "d0c8c0fb",
   "metadata": {},
   "outputs": [
    {
     "name": "stdout",
     "output_type": "stream",
     "text": [
      "Calculation complete. Results saved in tno.csv\n"
     ]
    }
   ],
   "source": [
    "import csv\n",
    "import math\n",
    "\n",
    "# Function to calculate maguncert\n",
    "def calculate_maguncert(npix, skycounts, flux):\n",
    "    g = 1.63\n",
    "    maguncert = math.sqrt(npix * skycounts) / (math.sqrt(g) * flux)\n",
    "    return maguncert\n",
    "\n",
    "# Read CSV file and calculate maguncert\n",
    "with open('tno.csv', 'r') as file:\n",
    "    csv_reader = csv.DictReader(file)\n",
    "    data = list(csv_reader)\n",
    "\n",
    "    for row in data:\n",
    "        npix7 = float(row['AREA7'])\n",
    "        skycounts = float(row['MSKY'])\n",
    "        flux7 = float(row['FLUX7'])\n",
    "        npix5 = float(row['AREA5'])\n",
    "        flux5 = float(row['FLUX5'])\n",
    "        maguncert7 = calculate_maguncert(npix7, skycounts, flux7)\n",
    "        maguncert5 = calculate_maguncert(npix5, skycounts, flux5)\n",
    "        row['MAGUNCERT7'] = maguncert7\n",
    "        row['MAGUNCERT5'] = maguncert5\n",
    "    \n",
    "\n",
    "# Write calculated maguncert to a new CSV file\n",
    "output_file = 'tno.csv'\n",
    "fieldnames = data[0].keys()\n",
    "with open(output_file, 'w', newline='') as file:\n",
    "    writer = csv.DictWriter(file, fieldnames=fieldnames)\n",
    "    writer.writeheader()\n",
    "    writer.writerows(data)\n",
    "\n",
    "print(\"Calculation complete. Results saved in\", output_file)\n"
   ]
  },
  {
   "cell_type": "code",
   "execution_count": null,
   "id": "dec54fd7",
   "metadata": {},
   "outputs": [],
   "source": []
  }
 ],
 "metadata": {
  "kernelspec": {
   "display_name": "Python 3 (ipykernel)",
   "language": "python",
   "name": "python3"
  },
  "language_info": {
   "codemirror_mode": {
    "name": "ipython",
    "version": 3
   },
   "file_extension": ".py",
   "mimetype": "text/x-python",
   "name": "python",
   "nbconvert_exporter": "python",
   "pygments_lexer": "ipython3",
   "version": "3.11.5"
  }
 },
 "nbformat": 4,
 "nbformat_minor": 5
}
