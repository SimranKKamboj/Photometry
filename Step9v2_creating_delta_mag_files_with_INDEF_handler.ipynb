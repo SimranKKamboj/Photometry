{
 "cells": [
  {
   "cell_type": "code",
   "execution_count": 2,
   "id": "4d098c24",
   "metadata": {},
   "outputs": [
    {
     "name": "stdout",
     "output_type": "stream",
     "text": [
      "file created\n"
     ]
    }
   ],
   "source": [
    "import pandas as pd\n",
    "import numpy as np\n",
    "\n",
    "data_1 = pd.read_csv('1.csv')\n",
    "data_3 = pd.read_csv('tno.csv')\n",
    "\n",
    "# Extract relevant columns\n",
    "mag_columns = ['MAG7', 'MAG5']\n",
    "merr_columns = ['MAGUNCERT7', 'MAGUNCERT5']\n",
    "time_column = 'OTIME'\n",
    "mjdate_column = 'MJDATE'\n",
    "\n",
    "# Initialize lists to store delta magnitudes and errors\n",
    "delta_mags = []\n",
    "merrs = []\n",
    "\n",
    "# Iterate over magnitude and magnitude uncertainty columns\n",
    "for mag_col, merr_col in zip(mag_columns, merr_columns):\n",
    "    mag_tno = data_3[mag_col]\n",
    "    merr_tno = data_3[merr_col]\n",
    "    mag_star = data_1[mag_col]\n",
    "    merr_star = data_1[merr_col]\n",
    "\n",
    "    # Handle \"INDEF\" values\n",
    "    mag_tno = pd.to_numeric(mag_tno, errors='coerce')\n",
    "    merr_tno = pd.to_numeric(merr_tno, errors='coerce')\n",
    "\n",
    "    # Calculate delta magnitude and error\n",
    "    delta_mag = mag_tno - mag_star\n",
    "    merr = np.sqrt(merr_tno**2 + merr_star**2)\n",
    "\n",
    "    # Replace \"INDEF\" with NaN in delta_mag where necessary\n",
    "    delta_mag = delta_mag.where(~np.isnan(mag_tno), \"INDEF\")\n",
    "\n",
    "    # Append to lists\n",
    "    delta_mags.append(delta_mag)\n",
    "    merrs.append(merr)\n",
    "\n",
    "# Combine delta magnitudes and errors\n",
    "delta_mags_combined = pd.concat(delta_mags, axis=1)\n",
    "merrs_combined = pd.concat(merrs, axis=1)\n",
    "\n",
    "# Create a new DataFrame with delta_mag and merr columns\n",
    "tno_data = pd.DataFrame({'OTIME': data_3[time_column],\n",
    "                         'MJDATE': data_3[mjdate_column],\n",
    "                         'DELTAMAG7': delta_mags_combined['MAG7'],\n",
    "                         'DELTAERR7': merrs_combined['MAGUNCERT7'],\n",
    "                         'DELTAMAG5': delta_mags_combined['MAG5'],\n",
    "                         'DELTAERR5': merrs_combined['MAGUNCERT5']})\n",
    "\n",
    "# Save the DataFrame to a CSV file\n",
    "tno_data.to_csv('tno_star1.csv', index=False)\n",
    "print(\"file created\")\n"
   ]
  },
  {
   "cell_type": "code",
   "execution_count": null,
   "id": "5b3165de",
   "metadata": {},
   "outputs": [],
   "source": []
  }
 ],
 "metadata": {
  "kernelspec": {
   "display_name": "Python 3 (ipykernel)",
   "language": "python",
   "name": "python3"
  },
  "language_info": {
   "codemirror_mode": {
    "name": "ipython",
    "version": 3
   },
   "file_extension": ".py",
   "mimetype": "text/x-python",
   "name": "python",
   "nbconvert_exporter": "python",
   "pygments_lexer": "ipython3",
   "version": "3.11.5"
  }
 },
 "nbformat": 4,
 "nbformat_minor": 5
}
